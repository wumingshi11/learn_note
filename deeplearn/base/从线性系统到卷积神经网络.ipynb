{
 "cells": [
  {
   "cell_type": "markdown",
   "metadata": {},
   "source": [
    "# 搭建一个感知机_基于pytorch\n",
    "先搭建一个线性系统，只有一层，没有激活函数\n"
   ]
  },
  {
   "cell_type": "code",
   "execution_count": 39,
   "metadata": {},
   "outputs": [
    {
     "name": "stdout",
     "output_type": "stream",
     "text": [
      "tensor([[ 0.2088,  0.8036, -0.1728],\n",
      "        [-1.2670,  0.0211, -0.0956],\n",
      "        [-0.7023,  0.0057,  2.4084]]) tensor([ 7.6557, -3.8775, 16.3815])\n",
      "Epoch [10/100], Loss: 35.5390\n",
      "Epoch [20/100], Loss: 4.0825\n",
      "Epoch [30/100], Loss: 2.1204\n",
      "Epoch [40/100], Loss: 0.4536\n",
      "Epoch [50/100], Loss: 0.4009\n",
      "Epoch [60/100], Loss: 0.0245\n",
      "Epoch [70/100], Loss: 0.0352\n",
      "Epoch [80/100], Loss: 0.0032\n",
      "Epoch [90/100], Loss: 0.0043\n",
      "Epoch [100/100], Loss: 0.0004\n",
      "OrderedDict([('0.weight', tensor([[4.9890, 5.9873, 6.9859]])), ('0.bias', tensor([2.9957]))])\n"
     ]
    }
   ],
   "source": [
    "import torch\n",
    "import torch.nn as nn\n",
    "import torch.optim as optim\n",
    "from torch.utils.data import DataLoader, TensorDataset\n",
    "\n",
    "net = nn.Sequential(nn.Linear(3,1))\n",
    "\n",
    "# 定义损失失函数和优化器\n",
    "\n",
    "criterion = nn.MSELoss()\n",
    "optimizer1 = optim.SGD(net.parameters(), lr=0.001)\n",
    "\n",
    "# 定义一个随机数据集\n",
    "\n",
    "x = torch.randn(1000,3)\n",
    "\n",
    "\n",
    "# 数据标准化\n",
    "\n",
    "x_mean = x.mean(dim=0)\n",
    "x_std = x.std(dim=0)\n",
    "x = (x - x_mean) / x_std\n",
    "\n",
    "y =  x[:, 0] * 5  + x[:, 1] * 6 + x[:, 2] * 7 + 3\n",
    "print(x[0:3,:], y[0:3])\n",
    "# 创建数据加载器\n",
    "# 这个很有用，没有这个怎么都降不下去\n",
    "dataset = TensorDataset(x, y)\n",
    "dataloader = DataLoader(dataset, batch_size=32, shuffle=True)\n",
    "\n",
    "epoch = 100\n",
    "for i in range(epoch):\n",
    "    for input, result in dataloader:\n",
    "    # 前向传播\n",
    "        loss = criterion(net(input), result.unsqueeze(1))\n",
    "        # 清除梯度函数，重新计算\n",
    "        optimizer1.zero_grad()\n",
    "        # 计算梯度\n",
    "        loss.backward()\n",
    "        # 更新参数\n",
    "        optimizer1.step()\n",
    "    if (i + 1) % 10 == 0:\n",
    "        print(f'Epoch [{i+1}/{epoch}], Loss: {loss.sum():.4f}')\n",
    "\n",
    "print(net.state_dict())\n"
   ]
  },
  {
   "cell_type": "markdown",
   "metadata": {},
   "source": [
    "## softmax分类\n",
    "用来对图像进行分类\n",
    "1. 交叉熵损失函数\n",
    "2. 数据的组织\n"
   ]
  },
  {
   "cell_type": "code",
   "execution_count": 1,
   "metadata": {},
   "outputs": [
    {
     "name": "stdout",
     "output_type": "stream",
     "text": [
      "60000\n",
      "10000\n"
     ]
    }
   ],
   "source": [
    "import torch\n",
    "import torch.nn as nn\n",
    "import torch.optim as optim\n",
    "from torch.utils.data import DataLoader, TensorDataset\n",
    "\n",
    "# 数据相关\n",
    "import torchvision\n",
    "\n",
    "\n",
    "# 模型，损失函数，  优化器 Flatten用于将二维的数据转换为一维\n",
    "# model = nn.Sequential(nn.Flatten(), nn.Linear(28*28, 256),nn.ReLU(),nn.Linear(256, 10),nn.Softmax())\n",
    "model = nn.Sequential(nn.Flatten(), nn.Linear(28*28, 10))\n",
    "model3 = nn.Sequential(nn.Flatten(), nn.Linear(28*28, 256), nn.BatchNorm1d(256), nn.ReLU(),nn.Linear(256, 10))\n",
    "# 会自动进行softmax操作\n",
    "criterion = nn.CrossEntropyLoss()\n",
    "optimizer = optim.SGD(model.parameters(), lr=0.001)\n",
    "\n",
    "# 引入FashionMNIST数据集\n",
    "# 数据集有2个维度，第一个为数据，第二个标签\n",
    "train_data = torchvision.datasets.FashionMNIST(root='D:/data/FashionMNIST', train=True, transform=torchvision.transforms.ToTensor(), download=True)\n",
    "test_data = torchvision.datasets.FashionMNIST(root='D:/data/FashionMNIST', train=False, transform=torchvision.transforms.ToTensor(), download=True)\n",
    "\n",
    "print(len(train_data))\n",
    "print(len(test_data))\n",
    "\n",
    "# 转为dataloader\n",
    "\n",
    "train_loader = DataLoader(train_data, batch_size=64, shuffle=True)\n",
    "test_loader = DataLoader(test_data, batch_size=64, shuffle=True)\n",
    "\n",
    "def get_fashion_mnist_labels(labels): \n",
    "    \"\"\"返回Fashion-MNIST数据集的文本标签\"\"\"\n",
    "    text_labels = ['t-shirt', 'trouser', 'pullover', 'dress', 'coat',\n",
    "    'sandal', 'shirt', 'sneaker', 'bag', 'ankle boot']\n",
    "    return [text_labels[int(i)] for i in labels]\n"
   ]
  },
  {
   "cell_type": "code",
   "execution_count": 5,
   "metadata": {},
   "outputs": [
    {
     "name": "stdout",
     "output_type": "stream",
     "text": [
      "0 -----------------------\n",
      "Sequential(\n",
      "  (0): Flatten(start_dim=1, end_dim=-1)\n",
      "  (1): Linear(in_features=784, out_features=10, bias=True)\n",
      ")\n",
      "1 -----------------------\n",
      "Flatten(start_dim=1, end_dim=-1)\n",
      "2 -----------------------\n",
      "Linear(in_features=784, out_features=10, bias=True)\n"
     ]
    },
    {
     "ename": "",
     "evalue": "",
     "output_type": "error",
     "traceback": [
      "\u001b[1;31mThe Kernel crashed while executing code in the current cell or a previous cell. \n",
      "\u001b[1;31mPlease review the code in the cell(s) to identify a possible cause of the failure. \n",
      "\u001b[1;31mClick <a href='https://aka.ms/vscodeJupyterKernelCrash'>here</a> for more info. \n",
      "\u001b[1;31mView Jupyter <a href='command:jupyter.viewOutput'>log</a> for further details."
     ]
    }
   ],
   "source": [
    "i = 0\n",
    "for m in model.modules():\n",
    "    print(i,\"-----------------------\")\n",
    "    print(m)\n",
    "    i += 1"
   ]
  },
  {
   "cell_type": "code",
   "execution_count": 53,
   "metadata": {},
   "outputs": [
    {
     "name": "stdout",
     "output_type": "stream",
     "text": [
      "epoch : 0/50, loss : 1.6781267035744591\n",
      "epoch : 1/50, loss : 1.1892392269965173\n",
      "epoch : 2/50, loss : 1.0157622687979293\n",
      "epoch : 3/50, loss : 0.9245630260596651\n",
      "epoch : 4/50, loss : 0.8659877585830973\n",
      "epoch : 5/50, loss : 0.8242006770202092\n",
      "epoch : 6/50, loss : 0.7922710006170944\n",
      "epoch : 7/50, loss : 0.7666691566454068\n",
      "epoch : 8/50, loss : 0.7453503385662779\n",
      "epoch : 9/50, loss : 0.7275450648402354\n",
      "epoch : 10/50, loss : 0.7120632321468549\n",
      "epoch : 11/50, loss : 0.6985825799040194\n",
      "epoch : 12/50, loss : 0.6864457185715754\n",
      "epoch : 13/50, loss : 0.6758444571990703\n",
      "epoch : 14/50, loss : 0.6661140362718212\n",
      "epoch : 15/50, loss : 0.6573320093757308\n",
      "epoch : 16/50, loss : 0.6491434088965723\n",
      "epoch : 17/50, loss : 0.6418653217587136\n",
      "epoch : 18/50, loss : 0.6350175707197901\n",
      "epoch : 19/50, loss : 0.628741068531201\n",
      "epoch : 20/50, loss : 0.622972018111235\n",
      "epoch : 21/50, loss : 0.6173229749078182\n",
      "epoch : 22/50, loss : 0.6120180882561181\n",
      "epoch : 23/50, loss : 0.6074027686929906\n",
      "epoch : 24/50, loss : 0.602605992797087\n",
      "epoch : 25/50, loss : 0.5983284808107531\n",
      "epoch : 26/50, loss : 0.5941690272296162\n",
      "epoch : 27/50, loss : 0.590412819912947\n",
      "epoch : 28/50, loss : 0.586723434963206\n",
      "epoch : 29/50, loss : 0.583274028289801\n",
      "epoch : 30/50, loss : 0.579808467804496\n",
      "epoch : 31/50, loss : 0.5765710308162897\n",
      "epoch : 32/50, loss : 0.5735020939665817\n",
      "epoch : 33/50, loss : 0.5707814678835716\n",
      "epoch : 34/50, loss : 0.5677369843477379\n",
      "epoch : 35/50, loss : 0.5650730984233844\n",
      "epoch : 36/50, loss : 0.562459408760325\n",
      "epoch : 37/50, loss : 0.5599963972245706\n",
      "epoch : 38/50, loss : 0.5576722157090458\n",
      "epoch : 39/50, loss : 0.5552427647655198\n",
      "epoch : 40/50, loss : 0.5530476490698898\n",
      "epoch : 41/50, loss : 0.5510092369401887\n",
      "epoch : 42/50, loss : 0.5487458508914468\n",
      "epoch : 43/50, loss : 0.5467921314018367\n",
      "epoch : 44/50, loss : 0.5448153407525406\n",
      "epoch : 45/50, loss : 0.5429703959587541\n",
      "epoch : 46/50, loss : 0.541121137135827\n",
      "epoch : 47/50, loss : 0.5391743560271985\n",
      "epoch : 48/50, loss : 0.537524028468742\n",
      "epoch : 49/50, loss : 0.535862133256408\n"
     ]
    }
   ],
   "source": [
    "\n",
    "\n",
    "\n",
    "# 开始训练\n",
    "epochs = 50\n",
    "\n",
    "for epoch in range(epochs):\n",
    "    train_loss = 0\n",
    "    train_acc = 0\n",
    "    model.train()  # 训练模式\n",
    "    for i, (inputs, labels) in enumerate(train_loader):\n",
    "        optimizer.zero_grad()\n",
    "        # 前向传播\n",
    "        outputs = model(inputs)\n",
    "        loss = criterion(outputs, labels)\n",
    "        train_loss += loss.item()\n",
    "        # 反向传播\n",
    "        loss.backward()\n",
    "        # 更新参数\n",
    "        optimizer.step()\n",
    "    print(f'epoch : {epoch}/{epochs}, loss : {train_loss / len(train_loader)}')"
   ]
  },
  {
   "cell_type": "code",
   "execution_count": 57,
   "metadata": {},
   "outputs": [
    {
     "name": "stdout",
     "output_type": "stream",
     "text": [
      "Test Accuracy : 0.813\n"
     ]
    }
   ],
   "source": [
    "# 测试\n",
    "model.eval()\n",
    "acc = 0\n",
    "for i, (inputs, labels) in enumerate(test_loader) :\n",
    "    outputs = model(inputs)\n",
    "    _, preds = torch.max(outputs, 1)\n",
    "    result = preds == labels\n",
    "    acc += torch.sum(result).item()\n",
    "\n",
    "print(f'Test Accuracy : {acc / len(test_loader.dataset)}')"
   ]
  },
  {
   "cell_type": "markdown",
   "metadata": {},
   "source": [
    "## 多层感知机分类\n",
    "1. 3层网络进行分类，数据不变"
   ]
  },
  {
   "cell_type": "code",
   "execution_count": 58,
   "metadata": {},
   "outputs": [
    {
     "name": "stdout",
     "output_type": "stream",
     "text": [
      "epoch : 0/50, loss : 2.058189784031687\n",
      "epoch : 1/50, loss : 1.6116484215518814\n",
      "epoch : 2/50, loss : 1.2809890359957843\n",
      "epoch : 3/50, loss : 1.0900558887132958\n",
      "epoch : 4/50, loss : 0.9759939175043533\n",
      "epoch : 5/50, loss : 0.9011643505426866\n",
      "epoch : 6/50, loss : 0.8478422816882509\n",
      "epoch : 7/50, loss : 0.8073097468693373\n",
      "epoch : 8/50, loss : 0.7750162648112535\n",
      "epoch : 9/50, loss : 0.748060812192685\n",
      "epoch : 10/50, loss : 0.725067481176177\n",
      "epoch : 11/50, loss : 0.7049987691361258\n",
      "epoch : 12/50, loss : 0.6871420713757147\n",
      "epoch : 13/50, loss : 0.6712344519492152\n",
      "epoch : 14/50, loss : 0.6568835789460872\n",
      "epoch : 15/50, loss : 0.6438381469198889\n",
      "epoch : 16/50, loss : 0.6320331890318693\n",
      "epoch : 17/50, loss : 0.6211585829824781\n",
      "epoch : 18/50, loss : 0.6112891066747942\n",
      "epoch : 19/50, loss : 0.6021736372572019\n",
      "epoch : 20/50, loss : 0.5935407889041819\n",
      "epoch : 21/50, loss : 0.5858222726883411\n",
      "epoch : 22/50, loss : 0.5785395826485111\n",
      "epoch : 23/50, loss : 0.5716355844919108\n",
      "epoch : 24/50, loss : 0.5654281299950471\n",
      "epoch : 25/50, loss : 0.5594573450177464\n",
      "epoch : 26/50, loss : 0.5540391987066533\n",
      "epoch : 27/50, loss : 0.5486629828334109\n",
      "epoch : 28/50, loss : 0.543805651890952\n",
      "epoch : 29/50, loss : 0.5393579052264756\n",
      "epoch : 30/50, loss : 0.534945528866894\n",
      "epoch : 31/50, loss : 0.5308418787682234\n",
      "epoch : 32/50, loss : 0.527116039319079\n",
      "epoch : 33/50, loss : 0.5231859212808772\n",
      "epoch : 34/50, loss : 0.5196126756319868\n",
      "epoch : 35/50, loss : 0.5163354814243215\n",
      "epoch : 36/50, loss : 0.513111922278333\n",
      "epoch : 37/50, loss : 0.5101885840709783\n",
      "epoch : 38/50, loss : 0.5070829480282788\n",
      "epoch : 39/50, loss : 0.5045126364397596\n",
      "epoch : 40/50, loss : 0.5016884965492464\n",
      "epoch : 41/50, loss : 0.49912778143562486\n",
      "epoch : 42/50, loss : 0.49664629328606735\n",
      "epoch : 43/50, loss : 0.49433154920969946\n",
      "epoch : 44/50, loss : 0.4919724760374535\n",
      "epoch : 45/50, loss : 0.48970614734298384\n",
      "epoch : 46/50, loss : 0.48762039805271984\n",
      "epoch : 47/50, loss : 0.48575860157068856\n",
      "epoch : 48/50, loss : 0.4835404913499157\n",
      "epoch : 49/50, loss : 0.48166407639982856\n"
     ]
    }
   ],
   "source": [
    "model2 = nn.Sequential(nn.Flatten(), nn.Linear(28*28, 256),nn.ReLU(),nn.Linear(256, 10))\n",
    "optimizer2 = optim.SGD(model2.parameters(), lr=0.001)\n",
    "# 开始训练\n",
    "epochs = 50\n",
    "\n",
    "for epoch in range(epochs):\n",
    "    train_loss = 0\n",
    "    train_acc = 0\n",
    "    model2.train()  # 训练模式\n",
    "    for i, (inputs, labels) in enumerate(train_loader):\n",
    "        optimizer2.zero_grad()\n",
    "        # 前向传播\n",
    "        outputs = model2(inputs)\n",
    "        loss = criterion(outputs, labels)\n",
    "        train_loss += loss.item()\n",
    "        # 反向传播\n",
    "        loss.backward()\n",
    "        # 更新参数\n",
    "        optimizer2.step()\n",
    "    print(f'epoch : {epoch}/{epochs}, loss : {train_loss / len(train_loader)}')"
   ]
  },
  {
   "cell_type": "code",
   "execution_count": 60,
   "metadata": {},
   "outputs": [
    {
     "name": "stdout",
     "output_type": "stream",
     "text": [
      "epoch : 0/50, loss : 0.47996885531238404\n",
      "epoch : 1/50, loss : 0.478011869021189\n",
      "epoch : 2/50, loss : 0.47634257963979676\n",
      "epoch : 3/50, loss : 0.4746877691511915\n",
      "epoch : 4/50, loss : 0.4730023661179583\n",
      "epoch : 5/50, loss : 0.47128506509988294\n",
      "epoch : 6/50, loss : 0.4697705915710057\n",
      "epoch : 7/50, loss : 0.46838838937503696\n",
      "epoch : 8/50, loss : 0.4668065632330075\n",
      "epoch : 9/50, loss : 0.46533231313294693\n",
      "epoch : 10/50, loss : 0.46397538970846103\n",
      "epoch : 11/50, loss : 0.46254531411664573\n",
      "epoch : 12/50, loss : 0.4615260833330246\n",
      "epoch : 13/50, loss : 0.4599114564150127\n",
      "epoch : 14/50, loss : 0.4585916258251743\n",
      "epoch : 15/50, loss : 0.4573958822722628\n",
      "epoch : 16/50, loss : 0.4561487347332399\n",
      "epoch : 17/50, loss : 0.45501063784747237\n",
      "epoch : 18/50, loss : 0.4536895352258865\n",
      "epoch : 19/50, loss : 0.45278060798451847\n",
      "epoch : 20/50, loss : 0.4515769419226565\n",
      "epoch : 21/50, loss : 0.4503793278768627\n",
      "epoch : 22/50, loss : 0.4492086807547856\n",
      "epoch : 23/50, loss : 0.4486123515662354\n",
      "epoch : 24/50, loss : 0.44737944413604\n",
      "epoch : 25/50, loss : 0.4464363357437445\n",
      "epoch : 26/50, loss : 0.4453334847429414\n",
      "epoch : 27/50, loss : 0.44438383362885475\n",
      "epoch : 28/50, loss : 0.44347778606071653\n",
      "epoch : 29/50, loss : 0.4423243902893717\n",
      "epoch : 30/50, loss : 0.44139295138085066\n",
      "epoch : 31/50, loss : 0.440432864433921\n",
      "epoch : 32/50, loss : 0.43976015008207575\n",
      "epoch : 33/50, loss : 0.43905093551063334\n",
      "epoch : 34/50, loss : 0.4379936082721519\n",
      "epoch : 35/50, loss : 0.4369872334415216\n",
      "epoch : 36/50, loss : 0.4362034352698814\n",
      "epoch : 37/50, loss : 0.4354025493107879\n",
      "epoch : 38/50, loss : 0.4346931578476292\n",
      "epoch : 39/50, loss : 0.4336399781996253\n",
      "epoch : 40/50, loss : 0.43275372363102715\n",
      "epoch : 41/50, loss : 0.4319564243877875\n",
      "epoch : 42/50, loss : 0.43152255765092906\n",
      "epoch : 43/50, loss : 0.4306801440778063\n",
      "epoch : 44/50, loss : 0.42991066242713155\n",
      "epoch : 45/50, loss : 0.42927103991638116\n",
      "epoch : 46/50, loss : 0.4283659810514084\n",
      "epoch : 47/50, loss : 0.4276552217633231\n",
      "epoch : 48/50, loss : 0.42698216946648637\n",
      "epoch : 49/50, loss : 0.4260045590399425\n"
     ]
    }
   ],
   "source": [
    "epochs = 50\n",
    "\n",
    "for epoch in range(epochs):\n",
    "    train_loss = 0\n",
    "    train_acc = 0\n",
    "    model2.train()  # 训练模式\n",
    "    for i, (inputs, labels) in enumerate(train_loader):\n",
    "        optimizer2.zero_grad()\n",
    "        # 前向传播\n",
    "        outputs = model2(inputs)\n",
    "        loss = criterion(outputs, labels)\n",
    "        train_loss += loss.item()\n",
    "        # 反向传播\n",
    "        loss.backward()\n",
    "        # 更新参数\n",
    "        optimizer2.step()\n",
    "    print(f'epoch : {epoch}/{epochs}, loss : {train_loss / len(train_loader)}')"
   ]
  },
  {
   "cell_type": "code",
   "execution_count": 61,
   "metadata": {},
   "outputs": [
    {
     "name": "stdout",
     "output_type": "stream",
     "text": [
      "Test Accuracy : 0.8371\n"
     ]
    }
   ],
   "source": [
    "# 测试\n",
    "model2.eval()\n",
    "acc = 0\n",
    "for i, (inputs, labels) in enumerate(test_loader) :\n",
    "    outputs = model2(inputs)\n",
    "    _, preds = torch.max(outputs, 1)\n",
    "    result = preds == labels\n",
    "    acc += torch.sum(result).item()\n",
    "\n",
    "print(f'Test Accuracy : {acc / len(test_loader.dataset)}')"
   ]
  },
  {
   "cell_type": "markdown",
   "metadata": {},
   "source": [
    "## 优化\n",
    "加入批量归一化的的感知机"
   ]
  },
  {
   "cell_type": "code",
   "execution_count": 5,
   "metadata": {},
   "outputs": [
    {
     "name": "stdout",
     "output_type": "stream",
     "text": [
      "mode3 epoch : 1/100, loss : 0.6751904030090202\n",
      "mode3 epoch : 2/100, loss : 0.6009824399564312\n",
      "mode3 epoch : 3/100, loss : 0.5569122223012737\n",
      "mode3 epoch : 4/100, loss : 0.5255958432518343\n",
      "mode3 epoch : 5/100, loss : 0.5042006560861428\n",
      "mode3 epoch : 6/100, loss : 0.48724014610687555\n",
      "mode3 epoch : 7/100, loss : 0.472957036197821\n",
      "mode3 epoch : 8/100, loss : 0.4604240874650636\n",
      "mode3 epoch : 9/100, loss : 0.44890757905903145\n",
      "mode3 epoch : 10/100, loss : 0.44151464927552353\n",
      "mode3 epoch : 11/100, loss : 0.43361444043706476\n",
      "mode3 epoch : 12/100, loss : 0.42670734492001505\n",
      "mode3 epoch : 13/100, loss : 0.4193474128524632\n",
      "mode3 epoch : 14/100, loss : 0.41432717852373874\n",
      "mode3 epoch : 15/100, loss : 0.40957382364250194\n",
      "mode3 epoch : 16/100, loss : 0.4030560329556465\n",
      "mode3 epoch : 17/100, loss : 0.398170730817928\n",
      "mode3 epoch : 18/100, loss : 0.39309568399750094\n",
      "mode3 epoch : 19/100, loss : 0.38901904973584706\n",
      "mode3 epoch : 20/100, loss : 0.38444786879426635\n",
      "mode3 epoch : 21/100, loss : 0.38111170325706256\n",
      "mode3 epoch : 22/100, loss : 0.37725959978759416\n",
      "mode3 epoch : 23/100, loss : 0.37402820332980613\n",
      "mode3 epoch : 24/100, loss : 0.3701944756609545\n",
      "mode3 epoch : 25/100, loss : 0.3678822385699256\n",
      "mode3 epoch : 26/100, loss : 0.36455380779975005\n",
      "mode3 epoch : 27/100, loss : 0.3604847453137451\n",
      "mode3 epoch : 28/100, loss : 0.3581423427361542\n",
      "mode3 epoch : 29/100, loss : 0.35474054870416105\n",
      "mode3 epoch : 30/100, loss : 0.3511528880960906\n",
      "mode3 epoch : 31/100, loss : 0.349385786062873\n",
      "mode3 epoch : 32/100, loss : 0.3462136217367166\n",
      "mode3 epoch : 33/100, loss : 0.3447378682000424\n",
      "mode3 epoch : 34/100, loss : 0.3414267798476636\n",
      "mode3 epoch : 35/100, loss : 0.3402654423928464\n",
      "mode3 epoch : 36/100, loss : 0.3371564063595048\n",
      "mode3 epoch : 37/100, loss : 0.3345364696070202\n",
      "mode3 epoch : 38/100, loss : 0.3316145843025972\n",
      "mode3 epoch : 39/100, loss : 0.3288541124668965\n",
      "mode3 epoch : 40/100, loss : 0.32787350951227295\n",
      "mode3 epoch : 41/100, loss : 0.3265676867288313\n",
      "mode3 epoch : 42/100, loss : 0.3246361942274738\n",
      "mode3 epoch : 43/100, loss : 0.3209052090562864\n",
      "mode3 epoch : 44/100, loss : 0.3180702652837803\n",
      "mode3 epoch : 45/100, loss : 0.3174027506111146\n",
      "mode3 epoch : 46/100, loss : 0.3143050998195148\n",
      "mode3 epoch : 47/100, loss : 0.31313629494483536\n",
      "mode3 epoch : 48/100, loss : 0.31226398555963025\n",
      "mode3 epoch : 49/100, loss : 0.3090043243791249\n",
      "mode3 epoch : 50/100, loss : 0.3070862365922313\n",
      "mode3 epoch : 51/100, loss : 0.30548025463531014\n",
      "mode3 epoch : 52/100, loss : 0.30341790467182966\n",
      "mode3 epoch : 53/100, loss : 0.3012261533581499\n",
      "mode3 epoch : 54/100, loss : 0.30115576409327705\n",
      "mode3 epoch : 55/100, loss : 0.29849373967821663\n",
      "mode3 epoch : 56/100, loss : 0.29710973086737114\n",
      "mode3 epoch : 57/100, loss : 0.29487730604785084\n",
      "mode3 epoch : 58/100, loss : 0.292841603840465\n",
      "mode3 epoch : 59/100, loss : 0.29147476527387145\n",
      "mode3 epoch : 60/100, loss : 0.2903476964150156\n",
      "mode3 epoch : 61/100, loss : 0.2882750620847064\n",
      "mode3 epoch : 62/100, loss : 0.287828050760318\n",
      "mode3 epoch : 63/100, loss : 0.28602794274242954\n",
      "mode3 epoch : 64/100, loss : 0.28449655940601315\n",
      "mode3 epoch : 65/100, loss : 0.28287175173825546\n",
      "mode3 epoch : 66/100, loss : 0.27967515693449263\n",
      "mode3 epoch : 67/100, loss : 0.27929144166807124\n",
      "mode3 epoch : 68/100, loss : 0.27698023832524254\n",
      "mode3 epoch : 69/100, loss : 0.2754437217691433\n",
      "mode3 epoch : 70/100, loss : 0.2744783903918922\n",
      "mode3 epoch : 71/100, loss : 0.2722020436531064\n",
      "mode3 epoch : 72/100, loss : 0.27158641840603304\n",
      "mode3 epoch : 73/100, loss : 0.26990794906738214\n",
      "mode3 epoch : 74/100, loss : 0.2687195713903858\n",
      "mode3 epoch : 75/100, loss : 0.2660748034493247\n",
      "mode3 epoch : 76/100, loss : 0.2665085725105012\n",
      "mode3 epoch : 77/100, loss : 0.26361998089595134\n",
      "mode3 epoch : 78/100, loss : 0.2627354846326019\n",
      "mode3 epoch : 79/100, loss : 0.2620991563666731\n",
      "mode3 epoch : 80/100, loss : 0.26066876035223385\n",
      "mode3 epoch : 81/100, loss : 0.25776227214919734\n",
      "mode3 epoch : 82/100, loss : 0.2572774221933981\n",
      "mode3 epoch : 83/100, loss : 0.2559850692494846\n",
      "mode3 epoch : 84/100, loss : 0.2546198627651373\n",
      "mode3 epoch : 85/100, loss : 0.25375733282297913\n",
      "mode3 epoch : 86/100, loss : 0.2507267974491821\n",
      "mode3 epoch : 87/100, loss : 0.25090926426496585\n",
      "mode3 epoch : 88/100, loss : 0.24959379075559726\n",
      "mode3 epoch : 89/100, loss : 0.24783266521593147\n",
      "mode3 epoch : 90/100, loss : 0.24681283031572412\n",
      "mode3 epoch : 91/100, loss : 0.24473562132892832\n",
      "mode3 epoch : 92/100, loss : 0.24452228550272964\n",
      "mode3 epoch : 93/100, loss : 0.2425379274385189\n",
      "mode3 epoch : 94/100, loss : 0.2423789195700495\n",
      "mode3 epoch : 95/100, loss : 0.2403065202030927\n",
      "mode3 epoch : 96/100, loss : 0.23799843587346678\n",
      "mode3 epoch : 97/100, loss : 0.23801532534679878\n",
      "mode3 epoch : 98/100, loss : 0.23641524274053097\n",
      "mode3 epoch : 99/100, loss : 0.2345734661115385\n",
      "mode3 epoch : 100/100, loss : 0.23379751271022153\n"
     ]
    }
   ],
   "source": [
    "optimizer3 = optim.SGD(model3.parameters(), lr=0.001)\n",
    "# 开始训练\n",
    "epochs = 100\n",
    "\n",
    "for epoch in range(epochs):\n",
    "    train_loss = 0\n",
    "    train_acc = 0\n",
    "    model3.train()  # 训练模式\n",
    "    for i, (inputs, labels) in enumerate(train_loader):\n",
    "        optimizer3.zero_grad()\n",
    "        # 前向传播\n",
    "        outputs = model3(inputs)\n",
    "        loss = criterion(outputs, labels)\n",
    "        train_loss += loss.item()\n",
    "        # 反向传播\n",
    "        loss.backward()\n",
    "        # 更新参数\n",
    "        optimizer3.step()\n",
    "    print(f'mode3 epoch : {epoch + 1}/{epochs}, loss : {train_loss / len(train_loader)}')"
   ]
  },
  {
   "cell_type": "code",
   "execution_count": 6,
   "metadata": {},
   "outputs": [
    {
     "name": "stdout",
     "output_type": "stream",
     "text": [
      "model3 Test Accuracy : 0.8855\n"
     ]
    }
   ],
   "source": [
    "# 测试\n",
    "model3.eval()\n",
    "acc = 0\n",
    "for i, (inputs, labels) in enumerate(test_loader) :\n",
    "    outputs = model3(inputs)\n",
    "    _, preds = torch.max(outputs, 1)\n",
    "    result = preds == labels\n",
    "    acc += torch.sum(result).item()\n",
    "\n",
    "print(f'model3 Test Accuracy : {acc / len(test_loader.dataset)}')"
   ]
  },
  {
   "cell_type": "markdown",
   "metadata": {},
   "source": [
    "## 卷积神经网络"
   ]
  },
  {
   "cell_type": "code",
   "execution_count": 34,
   "metadata": {},
   "outputs": [],
   "source": [
    "# 卷积层，激活函数，卷积层，激活函数， 展开层，softmax\n",
    "# nn.Flatten(), nn.Linear(28*28, 256),nn.ReLU(),\n",
    "# model3 = nn.Sequential(nn.Flatten(), nn.Linear(28*28, 256), nn.BatchNorm1d(256), nn.ReLU(),nn.Linear(256, 10))\n",
    "model4 = nn.Sequential(nn.Conv2d(1,10, kernel_size=5,padding=2), nn.BatchNorm2d(10), \n",
    "                       nn.ReLU(), nn.Conv2d(10,10,kernel_size=7,padding=3,stride=2), \n",
    "                       nn.BatchNorm2d(10), nn.ReLU(), nn.AvgPool2d(kernel_size=2, stride=2),\n",
    "                       nn.Flatten(),nn.Linear(490,10))"
   ]
  },
  {
   "cell_type": "code",
   "execution_count": 35,
   "metadata": {},
   "outputs": [
    {
     "name": "stdout",
     "output_type": "stream",
     "text": [
      "mode4 epoch : 1/20, loss : 0.46989872158844587\n",
      "mode4 epoch : 2/20, loss : 0.33593049359474103\n",
      "mode4 epoch : 3/20, loss : 0.3028152750721618\n",
      "mode4 epoch : 4/20, loss : 0.28459284491916453\n",
      "mode4 epoch : 5/20, loss : 0.2705826828760633\n",
      "mode4 epoch : 6/20, loss : 0.26009566962385355\n",
      "mode4 epoch : 7/20, loss : 0.25164625094707077\n",
      "mode4 epoch : 8/20, loss : 0.24447247807754638\n",
      "mode4 epoch : 9/20, loss : 0.23814794306418915\n",
      "mode4 epoch : 10/20, loss : 0.23332662656029532\n",
      "mode4 epoch : 11/20, loss : 0.22762316469746485\n",
      "mode4 epoch : 12/20, loss : 0.2239819091718906\n",
      "mode4 epoch : 13/20, loss : 0.22040698805184505\n",
      "mode4 epoch : 14/20, loss : 0.21534072336897667\n",
      "mode4 epoch : 15/20, loss : 0.21301131394864525\n",
      "mode4 epoch : 16/20, loss : 0.20845385730218913\n",
      "mode4 epoch : 17/20, loss : 0.2061681342023268\n",
      "mode4 epoch : 18/20, loss : 0.20345852216248955\n",
      "mode4 epoch : 19/20, loss : 0.20078534877964302\n",
      "mode4 epoch : 20/20, loss : 0.1978468952188169\n"
     ]
    }
   ],
   "source": [
    "optimizer4 = optim.SGD(model4.parameters(), lr=0.1)\n",
    "# 开始训练\n",
    "epochs = 20\n",
    "\n",
    "for epoch in range(epochs):\n",
    "    train_loss = 0\n",
    "    train_acc = 0\n",
    "    model4.train()  # 训练模式\n",
    "    for i, (inputs, labels) in enumerate(train_loader):\n",
    "        optimizer4.zero_grad()\n",
    "        # 前向传播\n",
    "        outputs = model4(inputs)\n",
    "        loss = criterion(outputs, labels)\n",
    "        train_loss += loss.item()\n",
    "        # 反向传播\n",
    "        loss.backward()\n",
    "        # 更新参数\n",
    "        optimizer4.step()\n",
    "    print(f'mode4 epoch : {epoch + 1}/{epochs}, loss : {train_loss / len(train_loader)}')"
   ]
  },
  {
   "cell_type": "code",
   "execution_count": 36,
   "metadata": {},
   "outputs": [
    {
     "name": "stdout",
     "output_type": "stream",
     "text": [
      "model4 Test Accuracy : 0.9006\n",
      "model4 train Accuracy : 0.92965\n"
     ]
    }
   ],
   "source": [
    "# 测试\n",
    "model4.eval()\n",
    "acc = 0\n",
    "for i, (inputs, labels) in enumerate(test_loader) :\n",
    "    outputs = model4(inputs)\n",
    "    _, preds = torch.max(outputs, 1)\n",
    "    result = preds == labels\n",
    "    acc += torch.sum(result).item()\n",
    "\n",
    "print(f'model4 Test Accuracy : {acc / len(test_loader.dataset)}')\n",
    "\n",
    "acc = 0\n",
    "for i, (inputs, labels) in enumerate(train_loader) :\n",
    "    outputs = model4(inputs)\n",
    "    _, preds = torch.max(outputs, 1)\n",
    "    result = preds == labels\n",
    "    acc += torch.sum(result).item()\n",
    "\n",
    "print(f'model4 train Accuracy : {acc / len(train_loader.dataset)}')"
   ]
  },
  {
   "cell_type": "code",
   "execution_count": 14,
   "metadata": {},
   "outputs": [],
   "source": [
    "model5 = nn.Sequential(\n",
    "    nn.Conv2d(1, 6, kernel_size=5, padding=2), nn.Sigmoid(),\n",
    "    nn.AvgPool2d(kernel_size=2, stride=2),\n",
    "    nn.Conv2d(6, 16, kernel_size=5), nn.Sigmoid(),\n",
    "    nn.AvgPool2d(kernel_size=2, stride=2),\n",
    "    nn.Flatten(),\n",
    "    nn.Linear(16 * 5 * 5, 120), nn.Sigmoid(),\n",
    "    nn.Linear(120, 84), nn.Sigmoid(),\n",
    "    nn.Linear(84, 10))"
   ]
  },
  {
   "cell_type": "code",
   "execution_count": 27,
   "metadata": {},
   "outputs": [
    {
     "name": "stdout",
     "output_type": "stream",
     "text": [
      "mode5 epoch : 1/10, loss : 0.23562729865042512\n",
      "mode5 epoch : 2/10, loss : 0.23490782733013763\n",
      "mode5 epoch : 3/10, loss : 0.23406693687253416\n",
      "mode5 epoch : 4/10, loss : 0.23300409369837882\n",
      "mode5 epoch : 5/10, loss : 0.23249410330327844\n",
      "mode5 epoch : 6/10, loss : 0.23177548307282075\n",
      "mode5 epoch : 7/10, loss : 0.23105357801799836\n",
      "mode5 epoch : 8/10, loss : 0.23039482366730538\n",
      "mode5 epoch : 9/10, loss : 0.2293452197936044\n",
      "mode5 epoch : 10/10, loss : 0.22856990294034546\n"
     ]
    }
   ],
   "source": [
    "optimizer5 = optim.SGD(model5.parameters(), lr=0.1)\n",
    "# 开始训练\n",
    "epochs = 10\n",
    "\n",
    "for epoch in range(epochs):\n",
    "    train_loss = 0\n",
    "    train_acc = 0\n",
    "    model5.train()  # 训练模式\n",
    "    for i, (inputs, labels) in enumerate(train_loader):\n",
    "        optimizer5.zero_grad()\n",
    "        # 前向传播\n",
    "        outputs = model5(inputs)\n",
    "        loss = criterion(outputs, labels)\n",
    "        train_loss += loss.item()\n",
    "        # 反向传播\n",
    "        loss.backward()\n",
    "        # 更新参数\n",
    "        optimizer5.step()\n",
    "    print(f'mode5 epoch : {epoch + 1}/{epochs}, loss : {train_loss / len(train_loader)}')"
   ]
  },
  {
   "cell_type": "code",
   "execution_count": 28,
   "metadata": {},
   "outputs": [
    {
     "name": "stdout",
     "output_type": "stream",
     "text": [
      "model5 Test Accuracy : 0.898\n",
      "model5 train Accuracy : 0.9161666666666667\n"
     ]
    }
   ],
   "source": [
    "# 测试\n",
    "model5.eval()\n",
    "acc = 0\n",
    "for i, (inputs, labels) in enumerate(test_loader) :\n",
    "    outputs = model5(inputs)\n",
    "    _, preds = torch.max(outputs, 1)\n",
    "    result = preds == labels\n",
    "    acc += torch.sum(result).item()\n",
    "\n",
    "print(f'model5 Test Accuracy : {acc / len(test_loader.dataset)}')\n",
    "\n",
    "acc = 0\n",
    "for i, (inputs, labels) in enumerate(train_loader) :\n",
    "    outputs = model5(inputs)\n",
    "    _, preds = torch.max(outputs, 1)\n",
    "    result = preds == labels\n",
    "    acc += torch.sum(result).item()\n",
    "\n",
    "print(f'model5 train Accuracy : {acc / len(train_loader.dataset)}')\n",
    "# model5 Test Accuracy : 0.8957\n",
    "# model5 train Accuracy : 0.9139166666666667"
   ]
  }
 ],
 "metadata": {
  "kernelspec": {
   "display_name": "d2l",
   "language": "python",
   "name": "python3"
  },
  "language_info": {
   "codemirror_mode": {
    "name": "ipython",
    "version": 3
   },
   "file_extension": ".py",
   "mimetype": "text/x-python",
   "name": "python",
   "nbconvert_exporter": "python",
   "pygments_lexer": "ipython3",
   "version": "3.9.18"
  }
 },
 "nbformat": 4,
 "nbformat_minor": 2
}
